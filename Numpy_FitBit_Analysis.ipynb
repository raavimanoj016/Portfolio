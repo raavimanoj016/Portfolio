{
  "nbformat": 4,
  "nbformat_minor": 0,
  "metadata": {
    "colab": {
      "provenance": [],
      "include_colab_link": true
    },
    "kernelspec": {
      "name": "python3",
      "display_name": "Python 3"
    },
    "language_info": {
      "name": "python"
    }
  },
  "cells": [
    {
      "cell_type": "markdown",
      "metadata": {
        "id": "view-in-github",
        "colab_type": "text"
      },
      "source": [
        "<a href=\"https://colab.research.google.com/github/raavimanoj016/Portfolio/blob/main/Numpy_FitBit_Analysis.ipynb\" target=\"_parent\"><img src=\"https://colab.research.google.com/assets/colab-badge.svg\" alt=\"Open In Colab\"/></a>"
      ]
    },
    {
      "cell_type": "markdown",
      "metadata": {
        "id": "VSVU-5ScMbDp"
      },
      "source": [
        "### Use Case: Fitbit\n",
        "\n",
        "### Imagine you are a Data Scientist at Fitbit\n",
        "\n",
        "You've been given a user data to analyse and find some insights which can be shown on the smart watch.\n",
        "\n",
        "#### But why would we want to analyse the user data for desiging the watch?\n",
        "\n",
        "These insights from the user data can help business make customer oriented decision for the product design.\n",
        "\n",
        "\n",
        "\n",
        "#### Lets first look at the data we have gathered\n",
        "\n",
        "Link: https://drive.google.com/file/d/1Uxwd4H-tfM64giRS1VExMpQXKtBBtuP0/view?usp=sharing\n",
        "\n",
        "<img src='https://drive.google.com/uc?id=1Uxwd4H-tfM64giRS1VExMpQXKtBBtuP0'>\n"
      ]
    },
    {
      "cell_type": "markdown",
      "metadata": {
        "id": "d4ad3b77"
      },
      "source": [
        "#### Notice that there are some user features in the data\n",
        "\n",
        "There are provided as various columns in the data.\n",
        "\n",
        "#### Every row is called a record or data point\n",
        "\n",
        "\n",
        "#### What are all the features provided to us? \n",
        "\n",
        "- Date\n",
        "- Step Count\n",
        "- Mood (Categorical)\n",
        "- Calories Burned\n",
        "- Hours of sleep\n",
        "- Feeling Active (Categorical)\n",
        "\n",
        "\n",
        "**Using NumPy, we will explore this data to look for some interesting insights - Exploratory Data Analysis.**\n",
        "\n",
        "#### EDA is all about asking the right questions\n",
        "\n",
        "#### What kind of questions can we answer using this data?\n",
        "\n",
        "- How many records and features are there in the dataset?\n",
        "- What is the **average step count**?\n",
        "- On which day the **step count was highest/lowest?** \n",
        "\n",
        "\n",
        "#### Can we find some deeper insights?\n",
        "\n",
        "We can probably see how daily activity affects sleep and moood.\n",
        "\n",
        "We will try finding \n",
        "- How daily activity affects mood? "
      ]
    },
    {
      "cell_type": "markdown",
      "metadata": {
        "id": "zaaUrqvHS0n_"
      },
      "source": [
        "### Let's first download the dataset"
      ]
    },
    {
      "cell_type": "code",
      "source": [
        "import numpy as np\n"
      ],
      "metadata": {
        "id": "zkPVYNMafJ7S"
      },
      "execution_count": null,
      "outputs": []
    },
    {
      "cell_type": "code",
      "execution_count": null,
      "metadata": {
        "id": "FFclKZXyS0n_",
        "outputId": "b0fe62ec-a474-42da-8f4d-0e5a18d8a77e",
        "colab": {
          "base_uri": "https://localhost:8080/"
        }
      },
      "outputs": [
        {
          "output_type": "stream",
          "name": "stdout",
          "text": [
            "Downloading...\n",
            "From: https://drive.google.com/uc?id=1vk1Pu0djiYcrdc85yUXZ_Rqq2oZNcohd\n",
            "To: /content/fit.txt\n",
            "\r  0% 0.00/3.43k [00:00<?, ?B/s]\r100% 3.43k/3.43k [00:00<00:00, 4.10MB/s]\n"
          ]
        }
      ],
      "source": [
        "!gdown 1vk1Pu0djiYcrdc85yUXZ_Rqq2oZNcohd\n"
      ]
    },
    {
      "cell_type": "code",
      "execution_count": null,
      "metadata": {
        "id": "aAZUzoxO0ntS"
      },
      "outputs": [],
      "source": [
        "data = np.loadtxt('fit.txt', dtype='str')"
      ]
    },
    {
      "cell_type": "code",
      "execution_count": null,
      "metadata": {
        "colab": {
          "base_uri": "https://localhost:8080/"
        },
        "id": "hF1ShzXvY6JS",
        "outputId": "3b84ad06-b55d-4d53-a1db-3e2376161716"
      },
      "outputs": [
        {
          "output_type": "execute_result",
          "data": {
            "text/plain": [
              "array([['06-10-2017', '5464', 'Neutral', '181', '5', 'Inactive'],\n",
              "       ['07-10-2017', '6041', 'Sad', '197', '8', 'Inactive'],\n",
              "       ['08-10-2017', '25', 'Sad', '0', '5', 'Inactive'],\n",
              "       ['09-10-2017', '5461', 'Sad', '174', '4', 'Inactive'],\n",
              "       ['10-10-2017', '6915', 'Neutral', '223', '5', 'Active']],\n",
              "      dtype='<U10')"
            ]
          },
          "metadata": {},
          "execution_count": 93
        }
      ],
      "source": [
        "data[:5]"
      ]
    },
    {
      "cell_type": "markdown",
      "metadata": {
        "id": "RqpNn_Tm0yh0"
      },
      "source": [
        "What's the shape of the data? "
      ]
    },
    {
      "cell_type": "code",
      "execution_count": null,
      "metadata": {
        "colab": {
          "base_uri": "https://localhost:8080/"
        },
        "id": "vL442Nce00yL",
        "outputId": "a536a015-fc58-4fac-fdbc-e70622baa3f4"
      },
      "outputs": [
        {
          "output_type": "execute_result",
          "data": {
            "text/plain": [
              "(96, 6)"
            ]
          },
          "metadata": {},
          "execution_count": 94
        }
      ],
      "source": [
        "data.shape"
      ]
    },
    {
      "cell_type": "markdown",
      "metadata": {
        "id": "hJDLDeAX02by"
      },
      "source": [
        "There are 96 records and each record has 6 features.\n",
        "These features are:\n",
        "- Date\n",
        "- Step count\n",
        "- Mood\n",
        "- Calories Burned\n",
        "- Hours of sleep\n",
        "- activity status"
      ]
    },
    {
      "cell_type": "markdown",
      "metadata": {
        "id": "lsJ7tl9aYnw0"
      },
      "source": [
        "#### Notice that above array is a homogenous containing all the data as strings\n",
        "\n",
        "In order to work with strings, categorical data and numerical data, we will have save every feature seperately\n",
        "\n",
        "\n",
        "We can get some idea on how data is saved.\n",
        "\n",
        "Lets see whats the first element of `data`"
      ]
    },
    {
      "cell_type": "code",
      "execution_count": null,
      "metadata": {
        "colab": {
          "base_uri": "https://localhost:8080/"
        },
        "id": "73b8152d",
        "outputId": "60f1238c-a7f8-4489-fcba-9bb3cdf9469f"
      },
      "outputs": [
        {
          "output_type": "execute_result",
          "data": {
            "text/plain": [
              "array(['06-10-2017', '5464', 'Neutral', '181', '5', 'Inactive'],\n",
              "      dtype='<U10')"
            ]
          },
          "metadata": {},
          "execution_count": 95
        }
      ],
      "source": [
        "data[0]"
      ]
    },
    {
      "cell_type": "markdown",
      "metadata": {
        "id": "944d9f42"
      },
      "source": [
        "Hm, this extracts a row not a column\n",
        "\n",
        "\n",
        "Transpose"
      ]
    },
    {
      "cell_type": "code",
      "execution_count": null,
      "metadata": {
        "colab": {
          "base_uri": "https://localhost:8080/"
        },
        "id": "a2691778",
        "outputId": "7165c617-d4f7-4899-c69c-33fa2ccc0ad3"
      },
      "outputs": [
        {
          "output_type": "execute_result",
          "data": {
            "text/plain": [
              "array(['06-10-2017', '07-10-2017', '08-10-2017', '09-10-2017',\n",
              "       '10-10-2017', '11-10-2017', '12-10-2017', '13-10-2017',\n",
              "       '14-10-2017', '15-10-2017', '16-10-2017', '17-10-2017',\n",
              "       '18-10-2017', '19-10-2017', '20-10-2017', '21-10-2017',\n",
              "       '22-10-2017', '23-10-2017', '24-10-2017', '25-10-2017',\n",
              "       '26-10-2017', '27-10-2017', '28-10-2017', '29-10-2017',\n",
              "       '30-10-2017', '31-10-2017', '01-11-2017', '02-11-2017',\n",
              "       '03-11-2017', '04-11-2017', '05-11-2017', '06-11-2017',\n",
              "       '07-11-2017', '08-11-2017', '09-11-2017', '10-11-2017',\n",
              "       '11-11-2017', '12-11-2017', '13-11-2017', '14-11-2017',\n",
              "       '15-11-2017', '16-11-2017', '17-11-2017', '18-11-2017',\n",
              "       '19-11-2017', '20-11-2017', '21-11-2017', '22-11-2017',\n",
              "       '23-11-2017', '24-11-2017', '25-11-2017', '26-11-2017',\n",
              "       '27-11-2017', '28-11-2017', '29-11-2017', '30-11-2017',\n",
              "       '01-12-2017', '02-12-2017', '03-12-2017', '04-12-2017',\n",
              "       '05-12-2017', '06-12-2017', '07-12-2017', '08-12-2017',\n",
              "       '09-12-2017', '10-12-2017', '11-12-2017', '12-12-2017',\n",
              "       '13-12-2017', '14-12-2017', '15-12-2017', '16-12-2017',\n",
              "       '17-12-2017', '18-12-2017', '19-12-2017', '20-12-2017',\n",
              "       '21-12-2017', '22-12-2017', '23-12-2017', '24-12-2017',\n",
              "       '25-12-2017', '26-12-2017', '27-12-2017', '28-12-2017',\n",
              "       '29-12-2017', '30-12-2017', '31-12-2017', '01-01-2018',\n",
              "       '02-01-2018', '03-01-2018', '04-01-2018', '05-01-2018',\n",
              "       '06-01-2018', '07-01-2018', '08-01-2018', '09-01-2018'],\n",
              "      dtype='<U10')"
            ]
          },
          "metadata": {},
          "execution_count": 96
        }
      ],
      "source": [
        "data.T[0]"
      ]
    },
    {
      "cell_type": "markdown",
      "metadata": {
        "id": "7c0b8ebd"
      },
      "source": [
        "Great, we could extract first column\n",
        "\n",
        "#### Lets extract all the columns and save them in seperate variables"
      ]
    },
    {
      "cell_type": "code",
      "execution_count": null,
      "metadata": {
        "id": "Wk5qAYCJZGhG"
      },
      "outputs": [],
      "source": [
        "date, step_count, mood, calories_burned, hours_of_sleep, activity_status = data.T"
      ]
    },
    {
      "cell_type": "code",
      "execution_count": null,
      "metadata": {
        "colab": {
          "base_uri": "https://localhost:8080/"
        },
        "id": "0w6WABJ0ZLnk",
        "outputId": "35dff922-2930-4c7d-9dbd-b3489b6c5555"
      },
      "outputs": [
        {
          "output_type": "execute_result",
          "data": {
            "text/plain": [
              "array(['5464', '6041', '25', '5461', '6915', '4545', '4340', '1230', '61',\n",
              "       '1258', '3148', '4687', '4732', '3519', '1580', '2822', '181',\n",
              "       '3158', '4383', '3881', '4037', '202', '292', '330', '2209',\n",
              "       '4550', '4435', '4779', '1831', '2255', '539', '5464', '6041',\n",
              "       '4068', '4683', '4033', '6314', '614', '3149', '4005', '4880',\n",
              "       '4136', '705', '570', '269', '4275', '5999', '4421', '6930',\n",
              "       '5195', '546', '493', '995', '1163', '6676', '3608', '774', '1421',\n",
              "       '4064', '2725', '5934', '1867', '3721', '2374', '2909', '1648',\n",
              "       '799', '7102', '3941', '7422', '437', '1231', '1696', '4921',\n",
              "       '221', '6500', '3575', '4061', '651', '753', '518', '5537', '4108',\n",
              "       '5376', '3066', '177', '36', '299', '1447', '2599', '702', '133',\n",
              "       '153', '500', '2127', '2203'], dtype='<U10')"
            ]
          },
          "metadata": {},
          "execution_count": 98
        }
      ],
      "source": [
        "step_count"
      ]
    },
    {
      "cell_type": "code",
      "execution_count": null,
      "metadata": {
        "colab": {
          "base_uri": "https://localhost:8080/"
        },
        "id": "vRdFpj1SZXH2",
        "outputId": "840fbf86-7fe0-4f5e-b266-bbc349cc16b9"
      },
      "outputs": [
        {
          "output_type": "execute_result",
          "data": {
            "text/plain": [
              "dtype('<U10')"
            ]
          },
          "metadata": {},
          "execution_count": 99
        }
      ],
      "source": [
        "step_count.dtype"
      ]
    },
    {
      "cell_type": "markdown",
      "metadata": {
        "id": "S88ioILjYqfl"
      },
      "source": [
        "#### Let's convert the data types of these variables"
      ]
    },
    {
      "cell_type": "markdown",
      "metadata": {
        "id": "3VHi8OGJaOJj"
      },
      "source": [
        "**Step Count**"
      ]
    },
    {
      "cell_type": "code",
      "execution_count": null,
      "metadata": {
        "colab": {
          "base_uri": "https://localhost:8080/"
        },
        "id": "H46f-TVZZ8mB",
        "outputId": "31c479cf-7897-4ad6-dbdc-46db17dc3f94"
      },
      "outputs": [
        {
          "output_type": "execute_result",
          "data": {
            "text/plain": [
              "dtype('int64')"
            ]
          },
          "metadata": {},
          "execution_count": 100
        }
      ],
      "source": [
        "step_count = np.array(step_count, dtype = 'int')\n",
        "step_count.dtype"
      ]
    },
    {
      "cell_type": "code",
      "execution_count": null,
      "metadata": {
        "colab": {
          "base_uri": "https://localhost:8080/"
        },
        "id": "SKlM7Cf5aAPo",
        "outputId": "4f02d114-c063-4427-f9da-c1136c8e399b"
      },
      "outputs": [
        {
          "output_type": "execute_result",
          "data": {
            "text/plain": [
              "array([5464, 6041,   25, 5461, 6915, 4545, 4340, 1230,   61, 1258, 3148,\n",
              "       4687, 4732, 3519, 1580, 2822,  181, 3158, 4383, 3881, 4037,  202,\n",
              "        292,  330, 2209, 4550, 4435, 4779, 1831, 2255,  539, 5464, 6041,\n",
              "       4068, 4683, 4033, 6314,  614, 3149, 4005, 4880, 4136,  705,  570,\n",
              "        269, 4275, 5999, 4421, 6930, 5195,  546,  493,  995, 1163, 6676,\n",
              "       3608,  774, 1421, 4064, 2725, 5934, 1867, 3721, 2374, 2909, 1648,\n",
              "        799, 7102, 3941, 7422,  437, 1231, 1696, 4921,  221, 6500, 3575,\n",
              "       4061,  651,  753,  518, 5537, 4108, 5376, 3066,  177,   36,  299,\n",
              "       1447, 2599,  702,  133,  153,  500, 2127, 2203])"
            ]
          },
          "metadata": {},
          "execution_count": 101
        }
      ],
      "source": [
        "step_count"
      ]
    },
    {
      "cell_type": "markdown",
      "metadata": {
        "id": "EiicKEnqaQef"
      },
      "source": [
        "**Calories Burned**"
      ]
    },
    {
      "cell_type": "code",
      "execution_count": null,
      "metadata": {
        "colab": {
          "base_uri": "https://localhost:8080/"
        },
        "id": "58wybBA8aSfJ",
        "outputId": "bc8353d2-46d2-44d4-d3e6-9e0794f64eb3"
      },
      "outputs": [
        {
          "output_type": "execute_result",
          "data": {
            "text/plain": [
              "dtype('int64')"
            ]
          },
          "metadata": {},
          "execution_count": 102
        }
      ],
      "source": [
        "calories_burned = np.array(calories_burned, dtype = 'int')\n",
        "calories_burned.dtype"
      ]
    },
    {
      "cell_type": "markdown",
      "metadata": {
        "id": "Xy2ooExhaXg6"
      },
      "source": [
        "**Hours of Sleep**"
      ]
    },
    {
      "cell_type": "code",
      "execution_count": null,
      "metadata": {
        "colab": {
          "base_uri": "https://localhost:8080/"
        },
        "id": "D-w8VvuEaTjn",
        "outputId": "cdc75c19-da83-48f9-9dad-05de65d5aa25"
      },
      "outputs": [
        {
          "output_type": "execute_result",
          "data": {
            "text/plain": [
              "dtype('int64')"
            ]
          },
          "metadata": {},
          "execution_count": 103
        }
      ],
      "source": [
        "hours_of_sleep = np.array(hours_of_sleep, dtype = 'int')\n",
        "hours_of_sleep.dtype"
      ]
    },
    {
      "cell_type": "markdown",
      "metadata": {
        "id": "tf9hP1fUanDd"
      },
      "source": [
        "**Mood**\n",
        "\n",
        "`Mood` is a categorical data type. As a name says, categorical data type has two or more categories in it.\n",
        "\n",
        "Let's check the values of `mood` variable"
      ]
    },
    {
      "cell_type": "code",
      "execution_count": null,
      "metadata": {
        "colab": {
          "base_uri": "https://localhost:8080/"
        },
        "id": "26d6fe5e",
        "outputId": "1cf2a21d-cff7-414b-cd24-823cb79f45cd"
      },
      "outputs": [
        {
          "output_type": "execute_result",
          "data": {
            "text/plain": [
              "array(['Neutral', 'Sad', 'Sad', 'Sad', 'Neutral', 'Sad', 'Sad', 'Sad',\n",
              "       'Sad', 'Sad', 'Sad', 'Sad', 'Happy', 'Sad', 'Sad', 'Sad', 'Sad',\n",
              "       'Neutral', 'Neutral', 'Neutral', 'Neutral', 'Neutral', 'Neutral',\n",
              "       'Happy', 'Neutral', 'Happy', 'Happy', 'Happy', 'Happy', 'Happy',\n",
              "       'Happy', 'Happy', 'Neutral', 'Happy', 'Happy', 'Happy', 'Happy',\n",
              "       'Happy', 'Happy', 'Happy', 'Happy', 'Happy', 'Happy', 'Neutral',\n",
              "       'Happy', 'Happy', 'Happy', 'Happy', 'Happy', 'Happy', 'Happy',\n",
              "       'Happy', 'Happy', 'Neutral', 'Sad', 'Happy', 'Happy', 'Happy',\n",
              "       'Happy', 'Happy', 'Happy', 'Happy', 'Sad', 'Neutral', 'Neutral',\n",
              "       'Sad', 'Sad', 'Neutral', 'Neutral', 'Happy', 'Neutral', 'Neutral',\n",
              "       'Sad', 'Neutral', 'Sad', 'Neutral', 'Neutral', 'Sad', 'Sad', 'Sad',\n",
              "       'Sad', 'Happy', 'Neutral', 'Happy', 'Neutral', 'Sad', 'Sad', 'Sad',\n",
              "       'Neutral', 'Neutral', 'Sad', 'Sad', 'Happy', 'Neutral', 'Neutral',\n",
              "       'Happy'], dtype='<U10')"
            ]
          },
          "metadata": {},
          "execution_count": 104
        }
      ],
      "source": [
        "mood"
      ]
    },
    {
      "cell_type": "code",
      "execution_count": null,
      "metadata": {
        "colab": {
          "base_uri": "https://localhost:8080/"
        },
        "id": "5Oh9BXe8bDIA",
        "outputId": "4a66b3c3-0702-4895-df37-becd611fca51"
      },
      "outputs": [
        {
          "output_type": "execute_result",
          "data": {
            "text/plain": [
              "array(['Happy', 'Neutral', 'Sad'], dtype='<U10')"
            ]
          },
          "metadata": {},
          "execution_count": 105
        }
      ],
      "source": [
        "np.unique(mood)"
      ]
    },
    {
      "cell_type": "markdown",
      "metadata": {
        "id": "eM70740Pb6g7"
      },
      "source": [
        "**Activity Status**"
      ]
    },
    {
      "cell_type": "code",
      "execution_count": null,
      "metadata": {
        "colab": {
          "base_uri": "https://localhost:8080/"
        },
        "id": "64Nl1AVOb9-q",
        "outputId": "5cdd4d65-8df2-4d0c-f27d-6cceeae56483"
      },
      "outputs": [
        {
          "output_type": "execute_result",
          "data": {
            "text/plain": [
              "array(['Inactive', 'Inactive', 'Inactive', 'Inactive', 'Active',\n",
              "       'Inactive', 'Inactive', 'Inactive', 'Inactive', 'Inactive',\n",
              "       'Inactive', 'Inactive', 'Active', 'Inactive', 'Inactive',\n",
              "       'Inactive', 'Inactive', 'Inactive', 'Inactive', 'Inactive',\n",
              "       'Inactive', 'Inactive', 'Inactive', 'Inactive', 'Inactive',\n",
              "       'Active', 'Inactive', 'Inactive', 'Inactive', 'Inactive', 'Active',\n",
              "       'Inactive', 'Inactive', 'Inactive', 'Inactive', 'Inactive',\n",
              "       'Active', 'Active', 'Active', 'Active', 'Active', 'Active',\n",
              "       'Active', 'Active', 'Active', 'Inactive', 'Inactive', 'Inactive',\n",
              "       'Inactive', 'Inactive', 'Inactive', 'Active', 'Active', 'Active',\n",
              "       'Active', 'Active', 'Active', 'Active', 'Active', 'Active',\n",
              "       'Active', 'Active', 'Active', 'Inactive', 'Active', 'Active',\n",
              "       'Inactive', 'Active', 'Active', 'Active', 'Active', 'Active',\n",
              "       'Inactive', 'Active', 'Active', 'Active', 'Active', 'Inactive',\n",
              "       'Inactive', 'Inactive', 'Inactive', 'Active', 'Active', 'Active',\n",
              "       'Active', 'Inactive', 'Inactive', 'Inactive', 'Inactive',\n",
              "       'Inactive', 'Inactive', 'Inactive', 'Inactive', 'Active',\n",
              "       'Inactive', 'Active'], dtype='<U10')"
            ]
          },
          "metadata": {},
          "execution_count": 106
        }
      ],
      "source": [
        "activity_status"
      ]
    },
    {
      "cell_type": "markdown",
      "metadata": {
        "id": "Wa-zCHGRck0P"
      },
      "source": [
        "### Let's try to get some insights from the data."
      ]
    },
    {
      "cell_type": "markdown",
      "metadata": {
        "id": "yfMJxctDcnyc"
      },
      "source": [
        "#### What's the average step count? \n",
        "\n",
        "How can we calculate average? => `.mean()`"
      ]
    },
    {
      "cell_type": "code",
      "execution_count": null,
      "metadata": {
        "colab": {
          "base_uri": "https://localhost:8080/"
        },
        "id": "cQDghZafcskd",
        "outputId": "a5cc8926-b2fb-4995-c016-d538b4780406"
      },
      "outputs": [
        {
          "output_type": "execute_result",
          "data": {
            "text/plain": [
              "2935.9375"
            ]
          },
          "metadata": {},
          "execution_count": 107
        }
      ],
      "source": [
        "step_count.mean()"
      ]
    },
    {
      "cell_type": "markdown",
      "metadata": {
        "id": "A_oVUdX0c-vQ"
      },
      "source": [
        "User moves an average of 2900 steps a day."
      ]
    },
    {
      "cell_type": "markdown",
      "metadata": {
        "id": "aKFXHuW9dFQi"
      },
      "source": [
        "#### On which day the step count was highest?\n",
        "\n",
        "How will be find it? \n",
        "\n",
        "First we find the index of maximum step count and use that index to get the date.\n",
        "\n",
        "How'll we find the index? =>  \n",
        "\n",
        "Numpy provides a function `np.argmax()` which returns the index of maximum value element.\n",
        "\n",
        "Similarly, we have a function `np.argmin()` which returns the index of minimum element."
      ]
    },
    {
      "cell_type": "code",
      "execution_count": null,
      "metadata": {
        "colab": {
          "base_uri": "https://localhost:8080/"
        },
        "id": "vdkVWLbXdJ_M",
        "outputId": "a8ac22ff-caf4-401b-ffa0-181931338925"
      },
      "outputs": [
        {
          "output_type": "execute_result",
          "data": {
            "text/plain": [
              "69"
            ]
          },
          "metadata": {},
          "execution_count": 108
        }
      ],
      "source": [
        "step_count.argmax()\n"
      ]
    },
    {
      "cell_type": "markdown",
      "metadata": {
        "id": "0LNLiDRQS0oF"
      },
      "source": [
        "Here 69 is the index of maximum step count element."
      ]
    },
    {
      "cell_type": "code",
      "execution_count": null,
      "metadata": {
        "colab": {
          "base_uri": "https://localhost:8080/",
          "height": 35
        },
        "id": "KofFmC7jdb0f",
        "outputId": "24fb172b-c1ad-43b5-fa94-ecf2d3a77101"
      },
      "outputs": [
        {
          "output_type": "execute_result",
          "data": {
            "text/plain": [
              "'14-12-2017'"
            ],
            "application/vnd.google.colaboratory.intrinsic+json": {
              "type": "string"
            }
          },
          "metadata": {},
          "execution_count": 109
        }
      ],
      "source": [
        "date[step_count.argmax()]"
      ]
    },
    {
      "cell_type": "markdown",
      "metadata": {
        "id": "TQxByM7udeIQ"
      },
      "source": [
        "Let's check the calorie burnt on the day"
      ]
    },
    {
      "cell_type": "code",
      "execution_count": null,
      "metadata": {
        "colab": {
          "base_uri": "https://localhost:8080/"
        },
        "id": "A1Q9Zi6sdis7",
        "outputId": "20bf683e-d086-40a4-8c89-8507cae63fdb"
      },
      "outputs": [
        {
          "output_type": "execute_result",
          "data": {
            "text/plain": [
              "243"
            ]
          },
          "metadata": {},
          "execution_count": 110
        }
      ],
      "source": [
        "calories_burned[step_count.argmax()]"
      ]
    },
    {
      "cell_type": "markdown",
      "metadata": {
        "id": "AX1brq0Tdm14"
      },
      "source": [
        "Not bad! 243 calories. Let's try to get the number of steps on that day as well"
      ]
    },
    {
      "cell_type": "code",
      "execution_count": null,
      "metadata": {
        "colab": {
          "base_uri": "https://localhost:8080/"
        },
        "id": "pI9v45zCdrXV",
        "outputId": "9a4ea979-72f4-429c-a443-48bd5577f88c"
      },
      "outputs": [
        {
          "output_type": "execute_result",
          "data": {
            "text/plain": [
              "7422"
            ]
          },
          "metadata": {},
          "execution_count": 111
        }
      ],
      "source": [
        "step_count.max()"
      ]
    },
    {
      "cell_type": "markdown",
      "metadata": {
        "id": "hjEjPnRFdyoH"
      },
      "source": [
        "7k steps!! Sports mode on!"
      ]
    },
    {
      "cell_type": "markdown",
      "metadata": {
        "id": "6ILytZ8fkCvp"
      },
      "source": [
        "#### Let's try to compare step counts on bad mood days and good mood days"
      ]
    },
    {
      "cell_type": "markdown",
      "metadata": {
        "id": "ivbRXnQzkeu0"
      },
      "source": [
        "Average step count on Sad mood days"
      ]
    },
    {
      "cell_type": "code",
      "execution_count": null,
      "metadata": {
        "colab": {
          "base_uri": "https://localhost:8080/"
        },
        "id": "Mi_JuVdNkcx-",
        "outputId": "36f5397d-1f2a-48da-f160-bf8797a1f586"
      },
      "outputs": [
        {
          "output_type": "execute_result",
          "data": {
            "text/plain": [
              "2103.0689655172414"
            ]
          },
          "metadata": {},
          "execution_count": 112
        }
      ],
      "source": [
        "np.mean(step_count[mood == 'Sad'])"
      ]
    },
    {
      "cell_type": "code",
      "execution_count": null,
      "metadata": {
        "colab": {
          "base_uri": "https://localhost:8080/"
        },
        "id": "KwYN9vPykxWL",
        "outputId": "d8629e58-6b9a-43ea-d8ea-d4022a858706"
      },
      "outputs": [
        {
          "output_type": "execute_result",
          "data": {
            "text/plain": [
              "array([  25,   36,   61,  133,  177,  181,  221,  299,  518,  651,  702,\n",
              "        753,  799, 1230, 1258, 1580, 1648, 1696, 2822, 3148, 3519, 3721,\n",
              "       4061, 4340, 4545, 4687, 5461, 6041, 6676])"
            ]
          },
          "metadata": {},
          "execution_count": 113
        }
      ],
      "source": [
        "np.sort(step_count[mood == 'Sad'])"
      ]
    },
    {
      "cell_type": "code",
      "execution_count": null,
      "metadata": {
        "id": "c48b33fa",
        "outputId": "672fd1cc-bdd4-4fc8-ad53-30c9e72b04ef",
        "colab": {
          "base_uri": "https://localhost:8080/"
        }
      },
      "outputs": [
        {
          "output_type": "execute_result",
          "data": {
            "text/plain": [
              "2021.2355035376254"
            ]
          },
          "metadata": {},
          "execution_count": 114
        }
      ],
      "source": [
        "np.std(step_count[mood == 'Sad'])"
      ]
    },
    {
      "cell_type": "markdown",
      "metadata": {
        "id": "ZFUxe5K2kjon"
      },
      "source": [
        "Average step count on happy days"
      ]
    },
    {
      "cell_type": "code",
      "execution_count": null,
      "metadata": {
        "colab": {
          "base_uri": "https://localhost:8080/"
        },
        "id": "tqc73GG_khss",
        "outputId": "dad8f4bf-3a39-4dab-b8ca-15ff18c849fe"
      },
      "outputs": [
        {
          "output_type": "execute_result",
          "data": {
            "text/plain": [
              "3392.725"
            ]
          },
          "metadata": {},
          "execution_count": 115
        }
      ],
      "source": [
        "np.mean(step_count[mood == 'Happy'])"
      ]
    },
    {
      "cell_type": "code",
      "execution_count": null,
      "metadata": {
        "colab": {
          "base_uri": "https://localhost:8080/"
        },
        "id": "beflT_6bk5OU",
        "outputId": "3d36d828-6b30-4d83-ab98-6e308d72bb7f"
      },
      "outputs": [
        {
          "output_type": "execute_result",
          "data": {
            "text/plain": [
              "array([ 153,  269,  330,  493,  539,  546,  614,  705,  774,  995, 1421,\n",
              "       1831, 1867, 2203, 2255, 2725, 3149, 3608, 4005, 4033, 4064, 4068,\n",
              "       4136, 4275, 4421, 4435, 4550, 4683, 4732, 4779, 4880, 5195, 5376,\n",
              "       5464, 5537, 5934, 5999, 6314, 6930, 7422])"
            ]
          },
          "metadata": {},
          "execution_count": 116
        }
      ],
      "source": [
        "np.sort(step_count[mood == 'Happy'])"
      ]
    },
    {
      "cell_type": "markdown",
      "metadata": {
        "id": "CyCEi3qIk-jc"
      },
      "source": [
        "Average step count on sad days - 2103.\n",
        "\n",
        "Average step count on happy days - 3392\n",
        "\n",
        "There may be relation between mood and step count"
      ]
    },
    {
      "cell_type": "markdown",
      "metadata": {
        "id": "LQNvtZ1rlU9y"
      },
      "source": [
        "#### Let's try to check inverse. Mood when step count was greater/lesser"
      ]
    },
    {
      "cell_type": "markdown",
      "metadata": {
        "id": "y2wehAWclgfL"
      },
      "source": [
        "Mood when step count > 4000"
      ]
    },
    {
      "cell_type": "code",
      "execution_count": null,
      "metadata": {
        "colab": {
          "base_uri": "https://localhost:8080/"
        },
        "id": "TyQDns17lek8",
        "outputId": "b1432a37-3185-44aa-e2da-93a954e31dd7"
      },
      "outputs": [
        {
          "output_type": "execute_result",
          "data": {
            "text/plain": [
              "(array(['Happy', 'Neutral', 'Sad'], dtype='<U10'), array([22,  9,  7]))"
            ]
          },
          "metadata": {},
          "execution_count": 117
        }
      ],
      "source": [
        "np.unique(mood[step_count > 4000], return_counts = True)"
      ]
    },
    {
      "cell_type": "markdown",
      "metadata": {
        "id": "FEmry7IUlkZn"
      },
      "source": [
        "Out of 38 days when step count was more than 4000, user was feeling happy on 22 days."
      ]
    },
    {
      "cell_type": "markdown",
      "metadata": {
        "id": "TcScIqvQlsf5"
      },
      "source": [
        "Mood when step count <= 2000"
      ]
    },
    {
      "cell_type": "code",
      "execution_count": null,
      "metadata": {
        "colab": {
          "base_uri": "https://localhost:8080/"
        },
        "id": "htueN494lyqa",
        "outputId": "57d395e6-a512-4318-9358-4b2fb1a215f9"
      },
      "outputs": [
        {
          "output_type": "execute_result",
          "data": {
            "text/plain": [
              "(array(['Happy', 'Neutral', 'Sad'], dtype='<U10'), array([13,  8, 18]))"
            ]
          },
          "metadata": {},
          "execution_count": 118
        }
      ],
      "source": [
        "np.unique(mood[step_count < 2000], return_counts = True)"
      ]
    },
    {
      "cell_type": "markdown",
      "metadata": {
        "id": "suk18w4VmEJx"
      },
      "source": [
        "Out of 39 days, when step count was less than 2000, user was feeling sad on 18 days."
      ]
    },
    {
      "cell_type": "markdown",
      "metadata": {
        "id": "rQmdcuhBmNaS"
      },
      "source": [
        "#### **There may be a correlation between Mood and step count**"
      ]
    }
  ]
}