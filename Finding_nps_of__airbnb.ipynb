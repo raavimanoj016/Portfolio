{
  "nbformat": 4,
  "nbformat_minor": 0,
  "metadata": {
    "colab": {
      "provenance": [],
      "include_colab_link": true
    },
    "kernelspec": {
      "name": "python3",
      "display_name": "Python 3"
    },
    "language_info": {
      "name": "python"
    }
  },
  "cells": [
    {
      "cell_type": "markdown",
      "metadata": {
        "id": "view-in-github",
        "colab_type": "text"
      },
      "source": [
        "<a href=\"https://colab.research.google.com/github/raavimanoj016/Portfolio/blob/main/Finding_nps_of__airbnb.ipynb\" target=\"_parent\"><img src=\"https://colab.research.google.com/assets/colab-badge.svg\" alt=\"Open In Colab\"/></a>"
      ]
    },
    {
      "cell_type": "code",
      "execution_count": 1,
      "metadata": {
        "id": "pHlPtUP_I1f2",
        "outputId": "3c57334b-010d-454b-b1ec-c13537647621",
        "colab": {
          "base_uri": "https://localhost:8080/"
        }
      },
      "outputs": [
        {
          "output_type": "stream",
          "name": "stdout",
          "text": [
            "Looking in indexes: https://pypi.org/simple, https://us-python.pkg.dev/colab-wheels/public/simple/\n",
            "Requirement already satisfied: numpy in /usr/local/lib/python3.8/dist-packages (1.21.6)\n"
          ]
        }
      ],
      "source": [
        "!pip install numpy"
      ]
    },
    {
      "cell_type": "markdown",
      "metadata": {
        "id": "DvuyOYqW1tz9"
      },
      "source": [
        "## Importing Numpy\n",
        "\n",
        "    "
      ]
    },
    {
      "cell_type": "code",
      "execution_count": 2,
      "metadata": {
        "id": "zWLdH-P11tz_"
      },
      "outputs": [],
      "source": [
        "import numpy as np"
      ]
    },
    {
      "cell_type": "markdown",
      "metadata": {
        "id": "VSVU-5ScMbDp"
      },
      "source": [
        "## NPS (Net Promoter Score)\n"
      ]
    },
    {
      "cell_type": "markdown",
      "source": [
        "\n",
        "#### How to calculate NPS score? \n",
        "\n",
        "<img src=\"https://drive.google.com/uc?id=1KPIYlaN68vlL99iApaF5QbeBoyT24-Eu\">\n",
        "\n",
        "We label our responses into 3 categories:\n",
        "- Detractors: Respondents with a score of 0-6\n",
        "- Passive: Respondents with a score of 7-8\n",
        "- Promoters: score of 9-10.\n",
        "\n",
        "And\n",
        "```\n",
        "Net Promoter score = % Promoters - % Detractors.\n",
        "```\n"
      ],
      "metadata": {
        "id": "B-75b1TJtbmI"
      }
    },
    {
      "cell_type": "markdown",
      "source": [
        "\n",
        "#### Lets first look at the data we have gathered\n",
        "\n",
        "\n",
        "Dataset: https://drive.google.com/file/d/1c0ClC8SrPwJq5rrkyMKyPn80nyHcFikK/view?usp=sharing\n",
        "\n",
        "<img width = 500 src=\"https://drive.google.com/uc?id=1arJhLlzbr_Rf7ONxpkzo726mLbTyLb_p\">\n",
        "\n",
        "\n"
      ],
      "metadata": {
        "id": "CjVwLZoJtmHt"
      }
    },
    {
      "cell_type": "markdown",
      "metadata": {
        "id": "d4ad3b77"
      },
      "source": [
        "#### Notice that the file contains the score for likelyhood to recommend survey\n",
        "\n",
        "\n",
        "**Using NumPy** \n",
        "- we will bin our data into promoters/detractors\n",
        "- calulate the percentage of promoters/detractors \n",
        "- calculate NPS\n",
        "\n"
      ]
    },
    {
      "cell_type": "code",
      "execution_count": 3,
      "metadata": {
        "id": "FFclKZXyS0n_",
        "colab": {
          "base_uri": "https://localhost:8080/"
        },
        "outputId": "bc348ab8-992e-455e-83fc-8240690d0249"
      },
      "outputs": [
        {
          "output_type": "stream",
          "name": "stdout",
          "text": [
            "Downloading...\n",
            "From: https://drive.google.com/uc?id=1c0ClC8SrPwJq5rrkyMKyPn80nyHcFikK\n",
            "To: /content/survey.txt\n",
            "\r  0% 0.00/2.55k [00:00<?, ?B/s]\r100% 2.55k/2.55k [00:00<00:00, 3.91MB/s]\n"
          ]
        }
      ],
      "source": [
        "!gdown 1c0ClC8SrPwJq5rrkyMKyPn80nyHcFikK"
      ]
    },
    {
      "cell_type": "markdown",
      "metadata": {
        "id": "7vHhek-8Yu2_"
      },
      "source": [
        "#### Let's load the data we saw earlier. For this we will use `.loadtxt() function`\n",
        "\n",
        "Documentation: https://numpy.org/doc/stable/reference/generated/numpy.loadtxt.html"
      ]
    },
    {
      "cell_type": "code",
      "source": [
        "score = np.loadtxt('survey.txt', dtype ='int')"
      ],
      "metadata": {
        "id": "-Zmkqe0lbWUH"
      },
      "execution_count": 4,
      "outputs": []
    },
    {
      "cell_type": "markdown",
      "source": [
        "We provide file name along with the dtype of data we want to load in "
      ],
      "metadata": {
        "id": "MZart05rbwqm"
      }
    },
    {
      "cell_type": "markdown",
      "source": [
        "Let's see what the data looks like"
      ],
      "metadata": {
        "id": "pCzWYtkYb4Eg"
      }
    },
    {
      "cell_type": "code",
      "source": [
        "score[:5]"
      ],
      "metadata": {
        "id": "bXJjL5_gb7yB",
        "colab": {
          "base_uri": "https://localhost:8080/"
        },
        "outputId": "d35b46fe-aa0c-45b6-c81d-8264ac928275"
      },
      "execution_count": 5,
      "outputs": [
        {
          "output_type": "execute_result",
          "data": {
            "text/plain": [
              "array([ 7, 10,  5,  9,  9])"
            ]
          },
          "metadata": {},
          "execution_count": 5
        }
      ]
    },
    {
      "cell_type": "markdown",
      "metadata": {
        "id": "RqpNn_Tm0yh0"
      },
      "source": [
        "#### Let's check the number of responses"
      ]
    },
    {
      "cell_type": "code",
      "execution_count": 6,
      "metadata": {
        "id": "vL442Nce00yL",
        "colab": {
          "base_uri": "https://localhost:8080/"
        },
        "outputId": "49685f8c-6c1d-4851-be62-31c2dc0bb8a3"
      },
      "outputs": [
        {
          "output_type": "execute_result",
          "data": {
            "text/plain": [
              "(1167,)"
            ]
          },
          "metadata": {},
          "execution_count": 6
        }
      ],
      "source": [
        "score.shape"
      ]
    },
    {
      "cell_type": "markdown",
      "source": [
        "\n",
        "#### Let's check the minimum and max value"
      ],
      "metadata": {
        "id": "NcbHmTHzxIST"
      }
    },
    {
      "cell_type": "code",
      "source": [
        "score.min()"
      ],
      "metadata": {
        "id": "501XqIZCxMpN",
        "colab": {
          "base_uri": "https://localhost:8080/"
        },
        "outputId": "90f7695b-8df5-4b8f-9e79-d513014ff161"
      },
      "execution_count": 7,
      "outputs": [
        {
          "output_type": "execute_result",
          "data": {
            "text/plain": [
              "1"
            ]
          },
          "metadata": {},
          "execution_count": 7
        }
      ]
    },
    {
      "cell_type": "code",
      "source": [
        "score.max()"
      ],
      "metadata": {
        "id": "ZYuGHuVRxSoi",
        "colab": {
          "base_uri": "https://localhost:8080/"
        },
        "outputId": "a9af4ebc-eb3b-4211-e6cd-7b4dfb89ae41"
      },
      "execution_count": 8,
      "outputs": [
        {
          "output_type": "execute_result",
          "data": {
            "text/plain": [
              "10"
            ]
          },
          "metadata": {},
          "execution_count": 8
        }
      ]
    },
    {
      "cell_type": "markdown",
      "source": [
        "Looks like, there are no records with 0 score."
      ],
      "metadata": {
        "id": "c8HQzq0_xaIo"
      }
    },
    {
      "cell_type": "markdown",
      "source": [
        "Now, let's calculate NPS using these response.\n",
        "\n",
        "**NPS = % Promoters - % Detractors**\n",
        "\n",
        "Now, in order to calculate NPS, we need to calculate two things:\n",
        "- % Promoters\n",
        "- % Detractors"
      ],
      "metadata": {
        "id": "zNMYiW5BejDv"
      }
    },
    {
      "cell_type": "markdown",
      "source": [
        "#### Let's get the count of promoter and detractors"
      ],
      "metadata": {
        "id": "ieWZUkYZ-nNr"
      }
    },
    {
      "cell_type": "markdown",
      "source": [
        "Detractors have a score <=6"
      ],
      "metadata": {
        "id": "4jMEpvTN-qUd"
      }
    },
    {
      "cell_type": "code",
      "source": [
        "detractors = score[score <= 6].shape[0]"
      ],
      "metadata": {
        "id": "JWHyJLwK-_7T"
      },
      "execution_count": null,
      "outputs": []
    },
    {
      "cell_type": "code",
      "source": [
        "total = score.shape[0]"
      ],
      "metadata": {
        "id": "6HFHJ0pe_lfb"
      },
      "execution_count": null,
      "outputs": []
    },
    {
      "cell_type": "code",
      "source": [
        "percent_detractors = detractors/total*100"
      ],
      "metadata": {
        "id": "bwjZ7t90_iKQ"
      },
      "execution_count": null,
      "outputs": []
    },
    {
      "cell_type": "code",
      "source": [
        "percent_detractors"
      ],
      "metadata": {
        "colab": {
          "base_uri": "https://localhost:8080/"
        },
        "id": "UTjbdyf3_slK",
        "outputId": "7218f5cc-93ee-46f6-ddfc-278d09c618f2"
      },
      "execution_count": null,
      "outputs": [
        {
          "output_type": "execute_result",
          "data": {
            "text/plain": [
              "28.449014567266495"
            ]
          },
          "metadata": {},
          "execution_count": 35
        }
      ]
    },
    {
      "cell_type": "markdown",
      "source": [
        "Similarly, Promoters have a score 9-10"
      ],
      "metadata": {
        "id": "tl23JWHZ_ttt"
      }
    },
    {
      "cell_type": "code",
      "source": [
        "promoters = score[score >= 9].shape[0]"
      ],
      "metadata": {
        "id": "_QtDzHAG_1xZ"
      },
      "execution_count": null,
      "outputs": []
    },
    {
      "cell_type": "code",
      "source": [
        "percent_promoters = promoters/total*100"
      ],
      "metadata": {
        "id": "mLMTaRDX_1xa"
      },
      "execution_count": null,
      "outputs": []
    },
    {
      "cell_type": "code",
      "source": [
        "percent_promoters"
      ],
      "metadata": {
        "colab": {
          "base_uri": "https://localhost:8080/"
        },
        "outputId": "b75feb58-310f-4222-827f-e792a30fecef",
        "id": "pFn5zbEw_1xa"
      },
      "execution_count": null,
      "outputs": [
        {
          "output_type": "execute_result",
          "data": {
            "text/plain": [
              "52.185089974293064"
            ]
          },
          "metadata": {},
          "execution_count": 38
        }
      ]
    },
    {
      "cell_type": "markdown",
      "source": [
        "#### Calculating NPS"
      ],
      "metadata": {
        "id": "ckNyncxqAU3c"
      }
    },
    {
      "cell_type": "markdown",
      "source": [
        "For calculating NPS, we need to \n",
        "\n",
        "`% promoters - % detractors `"
      ],
      "metadata": {
        "id": "II9tB_cKAU3d"
      }
    },
    {
      "cell_type": "code",
      "source": [
        "nps = percent_promoters - percent_detractors\n",
        "nps"
      ],
      "metadata": {
        "colab": {
          "base_uri": "https://localhost:8080/"
        },
        "outputId": "ffe6caeb-3ee4-49cb-bd36-9c308af8242c",
        "id": "tx0smoTDAU3d"
      },
      "execution_count": null,
      "outputs": [
        {
          "output_type": "execute_result",
          "data": {
            "text/plain": [
              "23.73607540702657"
            ]
          },
          "metadata": {},
          "execution_count": 39
        }
      ]
    },
    {
      "cell_type": "code",
      "source": [
        "np.round(nps)"
      ],
      "metadata": {
        "colab": {
          "base_uri": "https://localhost:8080/"
        },
        "outputId": "4af68273-c6c0-488b-dc8e-94d8c5f5294d",
        "id": "FHZffeYvAU3d"
      },
      "execution_count": null,
      "outputs": [
        {
          "output_type": "execute_result",
          "data": {
            "text/plain": [
              "24.0"
            ]
          },
          "metadata": {},
          "execution_count": 40
        }
      ]
    },
    {
      "cell_type": "markdown",
      "source": [
        "We will map our scores into 3 categories s.t:\n",
        "\n",
        "- 0 - 6:  Detractors\n",
        "\n",
        "- 7 - 8: Passive\n",
        "\n",
        "- 9 - 10: Prometers\n",
        "\n",
        "This is called **binning**\n"
      ],
      "metadata": {
        "id": "2iexIO5FlodM"
      }
    },
    {
      "cell_type": "code",
      "source": [
        "arr = np.empty(shape = score.shape, dtype = 'str')"
      ],
      "metadata": {
        "id": "4Wgy3O3yp-cN"
      },
      "execution_count": 10,
      "outputs": []
    },
    {
      "cell_type": "code",
      "source": [
        "arr"
      ],
      "metadata": {
        "id": "YfaaKKO7q0iB",
        "colab": {
          "base_uri": "https://localhost:8080/"
        },
        "outputId": "f682c870-4d80-4b51-ae4a-5cbe171c80ec"
      },
      "execution_count": null,
      "outputs": [
        {
          "output_type": "execute_result",
          "data": {
            "text/plain": [
              "array(['', '', '', ..., '', '', ''], dtype='<U1')"
            ]
          },
          "metadata": {},
          "execution_count": 14
        }
      ]
    },
    {
      "cell_type": "markdown",
      "source": [
        "Notice the following\n",
        "- All the elements of the array are empty string\n",
        "- The dtype is being shown as `U1`."
      ],
      "metadata": {
        "id": "5TUqWb0bq-dI"
      }
    },
    {
      "cell_type": "markdown",
      "source": [
        "Now, we have got a string array. Let's bin our score values"
      ],
      "metadata": {
        "id": "uQeddYWHvH2Y"
      }
    },
    {
      "cell_type": "code",
      "source": [
        "arr[score <= 6] = 'detractors'"
      ],
      "metadata": {
        "id": "iRusp6DBvkSq"
      },
      "execution_count": 11,
      "outputs": []
    },
    {
      "cell_type": "code",
      "source": [
        "arr"
      ],
      "metadata": {
        "id": "5gHtNoeqv4DZ",
        "colab": {
          "base_uri": "https://localhost:8080/"
        },
        "outputId": "99f0f7eb-35b6-422a-9adb-09c9a8bf7f04"
      },
      "execution_count": null,
      "outputs": [
        {
          "output_type": "execute_result",
          "data": {
            "text/plain": [
              "array(['', '', 'detractors', ..., 'detractors', '', ''], dtype='<U10')"
            ]
          },
          "metadata": {},
          "execution_count": 23
        }
      ]
    },
    {
      "cell_type": "markdown",
      "source": [
        "Similarly, we can do it for passive and promoters"
      ],
      "metadata": {
        "id": "hru0pOr6v4Wq"
      }
    },
    {
      "cell_type": "code",
      "source": [
        "arr[(score >= 7) & (score <= 8)] = 'passive'"
      ],
      "metadata": {
        "id": "B00obSyxwA5z"
      },
      "execution_count": null,
      "outputs": []
    },
    {
      "cell_type": "code",
      "source": [
        "arr[score >= 9] = 'promoters'"
      ],
      "metadata": {
        "id": "c5Rag94ZwEuW"
      },
      "execution_count": null,
      "outputs": []
    },
    {
      "cell_type": "code",
      "source": [
        "arr"
      ],
      "metadata": {
        "id": "bTVgLkbNwG4H",
        "colab": {
          "base_uri": "https://localhost:8080/"
        },
        "outputId": "b489d023-25c7-4071-e945-db8f1b87c7e2"
      },
      "execution_count": null,
      "outputs": [
        {
          "output_type": "execute_result",
          "data": {
            "text/plain": [
              "array(['passive', 'promoters', 'detractors', ..., 'detractors',\n",
              "       'promoters', 'promoters'], dtype='<U10')"
            ]
          },
          "metadata": {},
          "execution_count": 26
        }
      ]
    },
    {
      "cell_type": "code",
      "source": [
        "arr[:15]"
      ],
      "metadata": {
        "id": "dG5CaWQdwHZo",
        "colab": {
          "base_uri": "https://localhost:8080/"
        },
        "outputId": "0b5f4249-d1bb-47df-dce2-0e76f261c941"
      },
      "execution_count": null,
      "outputs": [
        {
          "output_type": "execute_result",
          "data": {
            "text/plain": [
              "array(['passive', 'promoters', 'detractors', 'promoters', 'promoters',\n",
              "       'detractors', 'passive', 'promoters', 'promoters', 'promoters',\n",
              "       'promoters', 'detractors', 'promoters', 'promoters', 'passive'],\n",
              "      dtype='<U10')"
            ]
          },
          "metadata": {},
          "execution_count": 27
        }
      ]
    },
    {
      "cell_type": "code",
      "source": [
        "detractors_count = arr[arr == 'detractors'].shape[0]"
      ],
      "metadata": {
        "id": "WSQ0BIEaya8E"
      },
      "execution_count": null,
      "outputs": []
    },
    {
      "cell_type": "code",
      "source": [
        "detractors_count"
      ],
      "metadata": {
        "id": "gemMfJ1dy_Zp",
        "colab": {
          "base_uri": "https://localhost:8080/"
        },
        "outputId": "f5de6772-7818-437c-860a-209c7e4b682f"
      },
      "execution_count": null,
      "outputs": [
        {
          "output_type": "execute_result",
          "data": {
            "text/plain": [
              "332"
            ]
          },
          "metadata": {},
          "execution_count": 29
        }
      ]
    },
    {
      "cell_type": "code",
      "source": [
        "passive_count = arr[arr == 'passive'].shape[0]\n",
        "passive_count"
      ],
      "metadata": {
        "id": "34LZ-63LzAIK",
        "colab": {
          "base_uri": "https://localhost:8080/"
        },
        "outputId": "e255bd90-879f-4377-c07d-1e6cc139e912"
      },
      "execution_count": null,
      "outputs": [
        {
          "output_type": "execute_result",
          "data": {
            "text/plain": [
              "226"
            ]
          },
          "metadata": {},
          "execution_count": 30
        }
      ]
    },
    {
      "cell_type": "code",
      "source": [
        "promoters_count = arr[arr == 'promoters'].shape[0]\n",
        "promoters_count"
      ],
      "metadata": {
        "id": "-Bu3C1x8zBsb",
        "colab": {
          "base_uri": "https://localhost:8080/"
        },
        "outputId": "03e87cc2-791b-4e02-c678-b3f468e00be7"
      },
      "execution_count": null,
      "outputs": [
        {
          "output_type": "execute_result",
          "data": {
            "text/plain": [
              "609"
            ]
          },
          "metadata": {},
          "execution_count": 31
        }
      ]
    },
    {
      "cell_type": "markdown",
      "source": [
        "The short way:\n",
        "\n",
        "Use `.unique()` to get unique element "
      ],
      "metadata": {
        "id": "N4mM_7-uzeJb"
      }
    },
    {
      "cell_type": "code",
      "source": [
        "np.unique(arr)"
      ],
      "metadata": {
        "id": "SE0Vq2u5zqWS",
        "colab": {
          "base_uri": "https://localhost:8080/"
        },
        "outputId": "6ed64586-94be-48f6-fcb0-1140c17ee6b0"
      },
      "execution_count": null,
      "outputs": [
        {
          "output_type": "execute_result",
          "data": {
            "text/plain": [
              "array(['detractors', 'passive', 'promoters'], dtype='<U10')"
            ]
          },
          "metadata": {},
          "execution_count": 32
        }
      ]
    },
    {
      "cell_type": "markdown",
      "source": [
        "We can pass argument `return_counts = True` for count of each unique element.\n"
      ],
      "metadata": {
        "id": "Oes9jm7EzrbO"
      }
    },
    {
      "cell_type": "code",
      "source": [
        "np.unique(arr, return_counts = True)"
      ],
      "metadata": {
        "id": "mv93RvY0z5tF",
        "colab": {
          "base_uri": "https://localhost:8080/"
        },
        "outputId": "b9a84e46-2d06-4e3f-d0d6-23707c0cdba0"
      },
      "execution_count": null,
      "outputs": [
        {
          "output_type": "execute_result",
          "data": {
            "text/plain": [
              "(array(['detractors', 'passive', 'promoters'], dtype='<U10'),\n",
              " array([332, 226, 609]))"
            ]
          },
          "metadata": {},
          "execution_count": 33
        }
      ]
    },
    {
      "cell_type": "code",
      "source": [
        "unique, counts = np.unique(arr, return_counts = True)"
      ],
      "metadata": {
        "id": "MK1BmvKi0Kg0"
      },
      "execution_count": null,
      "outputs": []
    },
    {
      "cell_type": "code",
      "source": [
        "unique"
      ],
      "metadata": {
        "id": "g6Dnp6y30Nyt",
        "colab": {
          "base_uri": "https://localhost:8080/"
        },
        "outputId": "cdc89fec-b5bc-40a1-d299-edc1052eb8cb"
      },
      "execution_count": null,
      "outputs": [
        {
          "output_type": "execute_result",
          "data": {
            "text/plain": [
              "array(['detractors', 'passive', 'promoters'], dtype='<U10')"
            ]
          },
          "metadata": {},
          "execution_count": 35
        }
      ]
    },
    {
      "cell_type": "code",
      "source": [
        "counts"
      ],
      "metadata": {
        "id": "0KJ4IDAu0OPN",
        "colab": {
          "base_uri": "https://localhost:8080/"
        },
        "outputId": "24a29c5c-d4ff-4159-bd9f-716f40eb42eb"
      },
      "execution_count": null,
      "outputs": [
        {
          "output_type": "execute_result",
          "data": {
            "text/plain": [
              "array([332, 226, 609])"
            ]
          },
          "metadata": {},
          "execution_count": 36
        }
      ]
    },
    {
      "cell_type": "markdown",
      "source": [
        "#### % Promoters"
      ],
      "metadata": {
        "id": "Awa4xqcq0DC7"
      }
    },
    {
      "cell_type": "code",
      "source": [
        "percent_promoters = counts[2]/counts.sum()*100"
      ],
      "metadata": {
        "id": "Afol_SVC0FpJ"
      },
      "execution_count": null,
      "outputs": []
    },
    {
      "cell_type": "markdown",
      "source": [
        "#### % Detractors"
      ],
      "metadata": {
        "id": "h5iCuQJ91XWs"
      }
    },
    {
      "cell_type": "code",
      "source": [
        "percent_detractors = counts[0]/counts.sum()*100"
      ],
      "metadata": {
        "id": "ESINPC801ZJl"
      },
      "execution_count": null,
      "outputs": []
    },
    {
      "cell_type": "markdown",
      "source": [
        "#### Calculating NPS"
      ],
      "metadata": {
        "id": "g7W-Z8uK1a8q"
      }
    },
    {
      "cell_type": "code",
      "source": [
        "nps = percent_promoters - percent_detractors\n",
        "nps"
      ],
      "metadata": {
        "id": "Cug2wdyp1jqC",
        "colab": {
          "base_uri": "https://localhost:8080/"
        },
        "outputId": "89439df4-7e1d-4000-f7b7-625334a307a7"
      },
      "execution_count": null,
      "outputs": [
        {
          "output_type": "execute_result",
          "data": {
            "text/plain": [
              "23.73607540702657"
            ]
          },
          "metadata": {},
          "execution_count": 39
        }
      ]
    },
    {
      "cell_type": "code",
      "source": [
        "np.round(nps)"
      ],
      "metadata": {
        "id": "drbKdSDa1pyv",
        "colab": {
          "base_uri": "https://localhost:8080/"
        },
        "outputId": "a75e5fe0-a542-442f-f09d-b65153f93482"
      },
      "execution_count": null,
      "outputs": [
        {
          "output_type": "execute_result",
          "data": {
            "text/plain": [
              "24.0"
            ]
          },
          "metadata": {},
          "execution_count": 40
        }
      ]
    },
    {
      "cell_type": "markdown",
      "source": [
        "#### (Optional) What is a good NPS score ?"
      ],
      "metadata": {
        "id": "XGAljezjDug3"
      }
    },
    {
      "cell_type": "markdown",
      "source": [
        "<img src=\"https://drive.google.com/uc?id=1FYgRM2XmJs4Rv-l8CCUn_aXcyw7GfZlp\">\n",
        "\n",
        "Source: https://chattermill.com/blog/what-is-a-good-nps-score/\n"
      ],
      "metadata": {
        "id": "uKbKqgO11x8L"
      }
    }
  ]
}